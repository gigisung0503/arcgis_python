{
 "cells": [
  {
   "cell_type": "code",
   "execution_count": 20,
   "metadata": {},
   "outputs": [],
   "source": [
    "import arcpy\n",
    "\n",
    "# Setting the workspace\n",
    "arcpy.env.workspace = r'\\\\Mac\\Home\\gigi_git\\OptimizedRoutes\\VRP.gdb'\n",
    "\n",
    "# Enabling overwrite output\n",
    "arcpy.env.overwriteOutput = True\n"
   ]
  },
  {
   "cell_type": "code",
   "execution_count": 71,
   "metadata": {},
   "outputs": [
    {
     "data": {
      "text/plain": [
       "'\\\\\\\\Mac\\\\Home\\\\gigi_git\\\\OptimizedRoutes'"
      ]
     },
     "execution_count": 71,
     "metadata": {},
     "output_type": "execute_result"
    }
   ],
   "source": [
    "import os\n",
    "os.getcwd()"
   ]
  },
  {
   "cell_type": "code",
   "execution_count": 28,
   "metadata": {},
   "outputs": [],
   "source": [
    "import arcgis\n",
    "from arcgis.gis import GIS\n",
    "import pandas as pd\n",
    "import datetime\n",
    "from arcgis import geocoding\n",
    "from arcgis.features import Feature, FeatureSet"
   ]
  },
  {
   "cell_type": "code",
   "execution_count": 34,
   "metadata": {},
   "outputs": [
    {
     "name": "stdout",
     "output_type": "stream",
     "text": [
      "ArcGIS Online Org account\n",
      "Logged in as jis310_Harvard_CGA\n"
     ]
    }
   ],
   "source": [
    "print(\"ArcGIS Online Org account\")    \n",
    "gis = GIS('home')\n",
    "print(\"Logged in as \" + str(gis.properties.user.username))"
   ]
  },
  {
   "cell_type": "code",
   "execution_count": 35,
   "metadata": {
    "scrolled": true
   },
   "outputs": [
    {
     "data": {
      "text/plain": [
       "<FeatureSet> 483 features"
      ]
     },
     "execution_count": 35,
     "metadata": {},
     "output_type": "execute_result"
    }
   ],
   "source": [
    "orders_csv = \"PythonNotebook\\\\Addresses.csv\"\n",
    "orders_df = pd.read_csv(orders_csv)\n",
    "orders_sdf = pd.DataFrame.spatial.from_df(orders_df, \"Address\")\n",
    "orders_fset = orders_sdf.spatial.to_featureset()\n",
    "orders_fset"
   ]
  },
  {
   "cell_type": "code",
   "execution_count": 37,
   "metadata": {},
   "outputs": [
    {
     "data": {
      "text/plain": [
       "'\\\\\\\\Mac\\\\Home\\\\gigi_git\\\\OptimizedRoutes\\\\VRP.gdb\\\\orders_feature_class'"
      ]
     },
     "execution_count": 37,
     "metadata": {},
     "output_type": "execute_result"
    }
   ],
   "source": [
    "out_path = r'\\\\Mac\\Home\\gigi_git\\OptimizedRoutes\\VRP.gdb'\n",
    "out_name = \"orders_feature_class\"\n",
    "orders_fset.save(out_path, out_name)"
   ]
  },
  {
   "cell_type": "code",
   "execution_count": 38,
   "metadata": {
    "scrolled": true
   },
   "outputs": [
    {
     "data": {
      "text/html": [
       "<div>\n",
       "<style scoped>\n",
       "    .dataframe tbody tr th:only-of-type {\n",
       "        vertical-align: middle;\n",
       "    }\n",
       "\n",
       "    .dataframe tbody tr th {\n",
       "        vertical-align: top;\n",
       "    }\n",
       "\n",
       "    .dataframe thead th {\n",
       "        text-align: right;\n",
       "    }\n",
       "</style>\n",
       "<table border=\"1\" class=\"dataframe\">\n",
       "  <thead>\n",
       "    <tr style=\"text-align: right;\">\n",
       "      <th></th>\n",
       "      <th>ObjectID *</th>\n",
       "      <th>Shape *</th>\n",
       "      <th>Name</th>\n",
       "      <th>Description</th>\n",
       "      <th>StartDepotName</th>\n",
       "      <th>EndDepotName</th>\n",
       "      <th>StartDepotServiceTime</th>\n",
       "      <th>EndDepotServiceTime</th>\n",
       "      <th>EarliestStartTime</th>\n",
       "      <th>LatestStartTime</th>\n",
       "      <th>ArriveDepartDelay</th>\n",
       "      <th>Capacity_1</th>\n",
       "      <th>Capacity_2</th>\n",
       "      <th>Capacity_3</th>\n",
       "      <th>Capacity_4</th>\n",
       "      <th>Capacity_5</th>\n",
       "      <th>Capacity_6</th>\n",
       "      <th>Capacity_7</th>\n",
       "      <th>Capacity_8</th>\n",
       "      <th>Capacity_9</th>\n",
       "      <th>FixedCost</th>\n",
       "      <th>CostPerUnitTime</th>\n",
       "      <th>CostPerUnitDistance</th>\n",
       "      <th>OvertimeStartTime</th>\n",
       "      <th>CostPerUnitOvertime</th>\n",
       "      <th>MaxOrderCount</th>\n",
       "      <th>MaxTotalTime</th>\n",
       "      <th>MaxTotalTravelTime</th>\n",
       "      <th>MaxTotalDistance</th>\n",
       "      <th>AssignmentRule</th>\n",
       "      <th>ViolatedConstraint_1</th>\n",
       "      <th>ViolatedConstraint_2</th>\n",
       "      <th>ViolatedConstraint_3</th>\n",
       "      <th>ViolatedConstraint_4</th>\n",
       "      <th>OrderCount</th>\n",
       "      <th>TotalCost</th>\n",
       "      <th>RegularTimeCost</th>\n",
       "      <th>OvertimeCost</th>\n",
       "      <th>DistanceCost</th>\n",
       "      <th>TotalTime</th>\n",
       "      <th>TotalOrderServiceTime</th>\n",
       "      <th>TotalBreakServiceTime</th>\n",
       "      <th>TotalTravelTime</th>\n",
       "      <th>TotalDistance</th>\n",
       "      <th>StartTime</th>\n",
       "      <th>EndTime</th>\n",
       "      <th>StartTimeUTC</th>\n",
       "      <th>EndTimeUTC</th>\n",
       "      <th>TotalWaitTime</th>\n",
       "      <th>TotalViolationTime</th>\n",
       "      <th>RenewalCount</th>\n",
       "      <th>TotalRenewalServiceTime</th>\n",
       "      <th>Shape_Length</th>\n",
       "    </tr>\n",
       "  </thead>\n",
       "  <tbody>\n",
       "    <tr>\n",
       "      <th>0</th>\n",
       "      <td>1</td>\n",
       "      <td>Polyline M</td>\n",
       "      <td>Route1</td>\n",
       "      <td>&lt;Null&gt;</td>\n",
       "      <td>5110 Arundel Rakaia Gorge Road, Alford Forest,...</td>\n",
       "      <td>5110 Arundel Rakaia Gorge Road, Alford Forest,...</td>\n",
       "      <td>&lt;Null&gt;</td>\n",
       "      <td>&lt;Null&gt;</td>\n",
       "      <td>1.698872e+12</td>\n",
       "      <td>1.698872e+12</td>\n",
       "      <td>&lt;Null&gt;</td>\n",
       "      <td>60</td>\n",
       "      <td>&lt;Null&gt;</td>\n",
       "      <td>&lt;Null&gt;</td>\n",
       "      <td>&lt;Null&gt;</td>\n",
       "      <td>&lt;Null&gt;</td>\n",
       "      <td>&lt;Null&gt;</td>\n",
       "      <td>&lt;Null&gt;</td>\n",
       "      <td>&lt;Null&gt;</td>\n",
       "      <td>&lt;Null&gt;</td>\n",
       "      <td>&lt;Null&gt;</td>\n",
       "      <td>0.5</td>\n",
       "      <td>&lt;Null&gt;</td>\n",
       "      <td>452</td>\n",
       "      <td>10</td>\n",
       "      <td>60</td>\n",
       "      <td>480</td>\n",
       "      <td>&lt;Null&gt;</td>\n",
       "      <td>&lt;Null&gt;</td>\n",
       "      <td>Include</td>\n",
       "      <td>&lt;Null&gt;</td>\n",
       "      <td>&lt;Null&gt;</td>\n",
       "      <td>&lt;Null&gt;</td>\n",
       "      <td>&lt;Null&gt;</td>\n",
       "      <td>54</td>\n",
       "      <td>273.637871</td>\n",
       "      <td>226.000000</td>\n",
       "      <td>47.637871</td>\n",
       "      <td>0</td>\n",
       "      <td>456.763787</td>\n",
       "      <td>226</td>\n",
       "      <td>0</td>\n",
       "      <td>230.763787</td>\n",
       "      <td>165.571912</td>\n",
       "      <td>11/1/2023 21:00</td>\n",
       "      <td>11/2/2023 4:36</td>\n",
       "      <td>11/1/2023 8:00</td>\n",
       "      <td>11/1/2023 15:36</td>\n",
       "      <td>0</td>\n",
       "      <td>0</td>\n",
       "      <td>0</td>\n",
       "      <td>0</td>\n",
       "      <td>3.013565</td>\n",
       "    </tr>\n",
       "    <tr>\n",
       "      <th>1</th>\n",
       "      <td>2</td>\n",
       "      <td>Polyline M</td>\n",
       "      <td>Route2</td>\n",
       "      <td>&lt;Null&gt;</td>\n",
       "      <td>5110 Arundel Rakaia Gorge Road, Alford Forest,...</td>\n",
       "      <td>5110 Arundel Rakaia Gorge Road, Alford Forest,...</td>\n",
       "      <td>&lt;Null&gt;</td>\n",
       "      <td>&lt;Null&gt;</td>\n",
       "      <td>1.698872e+12</td>\n",
       "      <td>1.698872e+12</td>\n",
       "      <td>&lt;Null&gt;</td>\n",
       "      <td>60</td>\n",
       "      <td>&lt;Null&gt;</td>\n",
       "      <td>&lt;Null&gt;</td>\n",
       "      <td>&lt;Null&gt;</td>\n",
       "      <td>&lt;Null&gt;</td>\n",
       "      <td>&lt;Null&gt;</td>\n",
       "      <td>&lt;Null&gt;</td>\n",
       "      <td>&lt;Null&gt;</td>\n",
       "      <td>&lt;Null&gt;</td>\n",
       "      <td>&lt;Null&gt;</td>\n",
       "      <td>0.5</td>\n",
       "      <td>&lt;Null&gt;</td>\n",
       "      <td>452</td>\n",
       "      <td>10</td>\n",
       "      <td>60</td>\n",
       "      <td>480</td>\n",
       "      <td>&lt;Null&gt;</td>\n",
       "      <td>&lt;Null&gt;</td>\n",
       "      <td>Include</td>\n",
       "      <td>&lt;Null&gt;</td>\n",
       "      <td>&lt;Null&gt;</td>\n",
       "      <td>&lt;Null&gt;</td>\n",
       "      <td>&lt;Null&gt;</td>\n",
       "      <td>54</td>\n",
       "      <td>215.324192</td>\n",
       "      <td>215.324192</td>\n",
       "      <td>0.000000</td>\n",
       "      <td>0</td>\n",
       "      <td>430.648384</td>\n",
       "      <td>228</td>\n",
       "      <td>0</td>\n",
       "      <td>202.648384</td>\n",
       "      <td>146.270688</td>\n",
       "      <td>11/1/2023 21:00</td>\n",
       "      <td>11/2/2023 4:10</td>\n",
       "      <td>11/1/2023 8:00</td>\n",
       "      <td>11/1/2023 15:10</td>\n",
       "      <td>0</td>\n",
       "      <td>0</td>\n",
       "      <td>0</td>\n",
       "      <td>0</td>\n",
       "      <td>2.653510</td>\n",
       "    </tr>\n",
       "    <tr>\n",
       "      <th>2</th>\n",
       "      <td>3</td>\n",
       "      <td>Polyline M</td>\n",
       "      <td>Route3</td>\n",
       "      <td>&lt;Null&gt;</td>\n",
       "      <td>5110 Arundel Rakaia Gorge Road, Alford Forest,...</td>\n",
       "      <td>5110 Arundel Rakaia Gorge Road, Alford Forest,...</td>\n",
       "      <td>&lt;Null&gt;</td>\n",
       "      <td>&lt;Null&gt;</td>\n",
       "      <td>1.698872e+12</td>\n",
       "      <td>1.698872e+12</td>\n",
       "      <td>&lt;Null&gt;</td>\n",
       "      <td>60</td>\n",
       "      <td>&lt;Null&gt;</td>\n",
       "      <td>&lt;Null&gt;</td>\n",
       "      <td>&lt;Null&gt;</td>\n",
       "      <td>&lt;Null&gt;</td>\n",
       "      <td>&lt;Null&gt;</td>\n",
       "      <td>&lt;Null&gt;</td>\n",
       "      <td>&lt;Null&gt;</td>\n",
       "      <td>&lt;Null&gt;</td>\n",
       "      <td>&lt;Null&gt;</td>\n",
       "      <td>0.5</td>\n",
       "      <td>&lt;Null&gt;</td>\n",
       "      <td>452</td>\n",
       "      <td>10</td>\n",
       "      <td>60</td>\n",
       "      <td>480</td>\n",
       "      <td>&lt;Null&gt;</td>\n",
       "      <td>&lt;Null&gt;</td>\n",
       "      <td>Include</td>\n",
       "      <td>&lt;Null&gt;</td>\n",
       "      <td>&lt;Null&gt;</td>\n",
       "      <td>&lt;Null&gt;</td>\n",
       "      <td>&lt;Null&gt;</td>\n",
       "      <td>57</td>\n",
       "      <td>230.339501</td>\n",
       "      <td>226.000000</td>\n",
       "      <td>4.339501</td>\n",
       "      <td>0</td>\n",
       "      <td>452.433950</td>\n",
       "      <td>234</td>\n",
       "      <td>0</td>\n",
       "      <td>218.433950</td>\n",
       "      <td>154.595579</td>\n",
       "      <td>11/1/2023 21:00</td>\n",
       "      <td>11/2/2023 4:32</td>\n",
       "      <td>11/1/2023 8:00</td>\n",
       "      <td>11/1/2023 15:32</td>\n",
       "      <td>0</td>\n",
       "      <td>0</td>\n",
       "      <td>0</td>\n",
       "      <td>0</td>\n",
       "      <td>2.787192</td>\n",
       "    </tr>\n",
       "    <tr>\n",
       "      <th>3</th>\n",
       "      <td>4</td>\n",
       "      <td>Polyline M</td>\n",
       "      <td>Route4</td>\n",
       "      <td>&lt;Null&gt;</td>\n",
       "      <td>5110 Arundel Rakaia Gorge Road, Alford Forest,...</td>\n",
       "      <td>5110 Arundel Rakaia Gorge Road, Alford Forest,...</td>\n",
       "      <td>&lt;Null&gt;</td>\n",
       "      <td>&lt;Null&gt;</td>\n",
       "      <td>1.698872e+12</td>\n",
       "      <td>1.698872e+12</td>\n",
       "      <td>&lt;Null&gt;</td>\n",
       "      <td>60</td>\n",
       "      <td>&lt;Null&gt;</td>\n",
       "      <td>&lt;Null&gt;</td>\n",
       "      <td>&lt;Null&gt;</td>\n",
       "      <td>&lt;Null&gt;</td>\n",
       "      <td>&lt;Null&gt;</td>\n",
       "      <td>&lt;Null&gt;</td>\n",
       "      <td>&lt;Null&gt;</td>\n",
       "      <td>&lt;Null&gt;</td>\n",
       "      <td>&lt;Null&gt;</td>\n",
       "      <td>0.5</td>\n",
       "      <td>&lt;Null&gt;</td>\n",
       "      <td>452</td>\n",
       "      <td>10</td>\n",
       "      <td>60</td>\n",
       "      <td>480</td>\n",
       "      <td>&lt;Null&gt;</td>\n",
       "      <td>&lt;Null&gt;</td>\n",
       "      <td>Include</td>\n",
       "      <td>&lt;Null&gt;</td>\n",
       "      <td>&lt;Null&gt;</td>\n",
       "      <td>&lt;Null&gt;</td>\n",
       "      <td>&lt;Null&gt;</td>\n",
       "      <td>51</td>\n",
       "      <td>222.225255</td>\n",
       "      <td>222.225255</td>\n",
       "      <td>0.000000</td>\n",
       "      <td>0</td>\n",
       "      <td>444.450510</td>\n",
       "      <td>222</td>\n",
       "      <td>0</td>\n",
       "      <td>222.450510</td>\n",
       "      <td>152.825985</td>\n",
       "      <td>11/1/2023 21:00</td>\n",
       "      <td>11/2/2023 4:24</td>\n",
       "      <td>11/1/2023 8:00</td>\n",
       "      <td>11/1/2023 15:24</td>\n",
       "      <td>0</td>\n",
       "      <td>0</td>\n",
       "      <td>0</td>\n",
       "      <td>0</td>\n",
       "      <td>2.814031</td>\n",
       "    </tr>\n",
       "    <tr>\n",
       "      <th>4</th>\n",
       "      <td>5</td>\n",
       "      <td>Polyline M</td>\n",
       "      <td>Route5</td>\n",
       "      <td>&lt;Null&gt;</td>\n",
       "      <td>5110 Arundel Rakaia Gorge Road, Alford Forest,...</td>\n",
       "      <td>5110 Arundel Rakaia Gorge Road, Alford Forest,...</td>\n",
       "      <td>&lt;Null&gt;</td>\n",
       "      <td>&lt;Null&gt;</td>\n",
       "      <td>1.698872e+12</td>\n",
       "      <td>1.698872e+12</td>\n",
       "      <td>&lt;Null&gt;</td>\n",
       "      <td>60</td>\n",
       "      <td>&lt;Null&gt;</td>\n",
       "      <td>&lt;Null&gt;</td>\n",
       "      <td>&lt;Null&gt;</td>\n",
       "      <td>&lt;Null&gt;</td>\n",
       "      <td>&lt;Null&gt;</td>\n",
       "      <td>&lt;Null&gt;</td>\n",
       "      <td>&lt;Null&gt;</td>\n",
       "      <td>&lt;Null&gt;</td>\n",
       "      <td>&lt;Null&gt;</td>\n",
       "      <td>0.5</td>\n",
       "      <td>&lt;Null&gt;</td>\n",
       "      <td>452</td>\n",
       "      <td>10</td>\n",
       "      <td>60</td>\n",
       "      <td>480</td>\n",
       "      <td>&lt;Null&gt;</td>\n",
       "      <td>&lt;Null&gt;</td>\n",
       "      <td>Include</td>\n",
       "      <td>&lt;Null&gt;</td>\n",
       "      <td>&lt;Null&gt;</td>\n",
       "      <td>&lt;Null&gt;</td>\n",
       "      <td>&lt;Null&gt;</td>\n",
       "      <td>53</td>\n",
       "      <td>233.217770</td>\n",
       "      <td>226.000000</td>\n",
       "      <td>7.217770</td>\n",
       "      <td>0</td>\n",
       "      <td>452.721777</td>\n",
       "      <td>226</td>\n",
       "      <td>0</td>\n",
       "      <td>226.721777</td>\n",
       "      <td>157.416889</td>\n",
       "      <td>11/1/2023 21:00</td>\n",
       "      <td>11/2/2023 4:32</td>\n",
       "      <td>11/1/2023 8:00</td>\n",
       "      <td>11/1/2023 15:32</td>\n",
       "      <td>0</td>\n",
       "      <td>0</td>\n",
       "      <td>0</td>\n",
       "      <td>0</td>\n",
       "      <td>2.806011</td>\n",
       "    </tr>\n",
       "  </tbody>\n",
       "</table>\n",
       "</div>"
      ],
      "text/plain": [
       "   ObjectID *     Shape *  ... TotalRenewalServiceTime Shape_Length\n",
       "0           1  Polyline M  ...                       0     3.013565\n",
       "1           2  Polyline M  ...                       0     2.653510\n",
       "2           3  Polyline M  ...                       0     2.787192\n",
       "3           4  Polyline M  ...                       0     2.814031\n",
       "4           5  Polyline M  ...                       0     2.806011\n",
       "\n",
       "[5 rows x 53 columns]"
      ]
     },
     "execution_count": 38,
     "metadata": {},
     "output_type": "execute_result"
    }
   ],
   "source": [
    "routes_csv = \"PythonNotebook\\\\routes.csv\"\n",
    "\n",
    "# Read the csv file\n",
    "routes_df = pd.read_csv(routes_csv, parse_dates=[\"EarliestStartTime\", \"LatestStartTime\"], date_parser=pd.to_datetime)\n",
    "routes_df[\"EarliestStartTime\"] = routes_df[\"EarliestStartTime\"].astype(\"int64\") / 10 ** 6\n",
    "routes_df[\"LatestStartTime\"] = routes_df[\"LatestStartTime\"].astype(\"int64\") / 10 ** 6\n",
    "routes_fset = arcgis.features.FeatureSet.from_dataframe(routes_df)\n",
    "routes_df.head(5)"
   ]
  },
  {
   "cell_type": "code",
   "execution_count": 50,
   "metadata": {
    "scrolled": true
   },
   "outputs": [
    {
     "name": "stdout",
     "output_type": "stream",
     "text": [
      "<class 'pandas.core.frame.DataFrame'>\n",
      "RangeIndex: 9 entries, 0 to 8\n",
      "Data columns (total 53 columns):\n",
      " #   Column                   Non-Null Count  Dtype  \n",
      "---  ------                   --------------  -----  \n",
      " 0   ObjectID *               9 non-null      int64  \n",
      " 1   Shape *                  9 non-null      object \n",
      " 2   Name                     9 non-null      object \n",
      " 3   Description              9 non-null      object \n",
      " 4   StartDepotName           9 non-null      object \n",
      " 5   EndDepotName             9 non-null      object \n",
      " 6   StartDepotServiceTime    9 non-null      object \n",
      " 7   EndDepotServiceTime      9 non-null      object \n",
      " 8   EarliestStartTime        9 non-null      float64\n",
      " 9   LatestStartTime          9 non-null      float64\n",
      " 10  ArriveDepartDelay        9 non-null      object \n",
      " 11  Capacity_1               9 non-null      int64  \n",
      " 12  Capacity_2               9 non-null      object \n",
      " 13  Capacity_3               9 non-null      object \n",
      " 14  Capacity_4               9 non-null      object \n",
      " 15  Capacity_5               9 non-null      object \n",
      " 16  Capacity_6               9 non-null      object \n",
      " 17  Capacity_7               9 non-null      object \n",
      " 18  Capacity_8               9 non-null      object \n",
      " 19  Capacity_9               9 non-null      object \n",
      " 20  FixedCost                9 non-null      object \n",
      " 21  CostPerUnitTime          9 non-null      float64\n",
      " 22  CostPerUnitDistance      9 non-null      object \n",
      " 23  OvertimeStartTime        9 non-null      int64  \n",
      " 24  CostPerUnitOvertime      9 non-null      int64  \n",
      " 25  MaxOrderCount            9 non-null      int64  \n",
      " 26  MaxTotalTime             9 non-null      int64  \n",
      " 27  MaxTotalTravelTime       9 non-null      object \n",
      " 28  MaxTotalDistance         9 non-null      object \n",
      " 29  AssignmentRule           9 non-null      object \n",
      " 30  ViolatedConstraint_1     9 non-null      object \n",
      " 31  ViolatedConstraint_2     9 non-null      object \n",
      " 32  ViolatedConstraint_3     9 non-null      object \n",
      " 33  ViolatedConstraint_4     9 non-null      object \n",
      " 34  OrderCount               9 non-null      int64  \n",
      " 35  TotalCost                9 non-null      float64\n",
      " 36  RegularTimeCost          9 non-null      float64\n",
      " 37  OvertimeCost             9 non-null      float64\n",
      " 38  DistanceCost             9 non-null      int64  \n",
      " 39  TotalTime                9 non-null      float64\n",
      " 40  TotalOrderServiceTime    9 non-null      int64  \n",
      " 41  TotalBreakServiceTime    9 non-null      int64  \n",
      " 42  TotalTravelTime          9 non-null      float64\n",
      " 43  TotalDistance            9 non-null      float64\n",
      " 44  StartTime                9 non-null      object \n",
      " 45  EndTime                  9 non-null      object \n",
      " 46  StartTimeUTC             9 non-null      object \n",
      " 47  EndTimeUTC               9 non-null      object \n",
      " 48  TotalWaitTime            9 non-null      int64  \n",
      " 49  TotalViolationTime       9 non-null      int64  \n",
      " 50  RenewalCount             9 non-null      int64  \n",
      " 51  TotalRenewalServiceTime  9 non-null      int64  \n",
      " 52  Shape_Length             9 non-null      float64\n",
      "dtypes: float64(10), int64(14), object(29)\n",
      "memory usage: 3.9+ KB\n"
     ]
    }
   ],
   "source": [
    "routes_df.info()"
   ]
  },
  {
   "cell_type": "code",
   "execution_count": 51,
   "metadata": {},
   "outputs": [
    {
     "data": {
      "text/plain": [
       "'\\\\\\\\Mac\\\\Home\\\\gigi_git\\\\OptimizedRoutes\\\\VRP.gdb\\\\routes_feature_class'"
      ]
     },
     "execution_count": 51,
     "metadata": {},
     "output_type": "execute_result"
    }
   ],
   "source": [
    "out_name = \"routes_feature_class\"\n",
    "routes_fset.save(out_path, out_name)"
   ]
  },
  {
   "cell_type": "code",
   "execution_count": 52,
   "metadata": {},
   "outputs": [
    {
     "name": "stdout",
     "output_type": "stream",
     "text": [
      "{\"features\": [{\"attributes\": {\"ObjectID *\": 1, \"Shape *\": \"Polyline M\", \"Name\": \"Route1\", \"Description\": \"<Null>\", \"StartDepotName\": \"5110 Arundel Rakaia Gorge Road, Alford Forest, Mount Somers, Canterbury, 7771\", \"EndDepotName\": \"5110 Arundel Rakaia Gorge Road, Alford Forest, Mount Somers, Canterbury, 7771\", \"StartDepotServiceTime\": \"<Null>\", \"EndDepotServiceTime\": \"<Null>\", \"EarliestStartTime\": 1698872400000.0, \"LatestStartTime\": 1698872400000.0, \"ArriveDepartDelay\": \"<Null>\", \"Capacity_1\": 60, \"Capacity_2\": \"<Null>\", \"Capacity_3\": \"<Null>\", \"Capacity_4\": \"<Null>\", \"Capacity_5\": \"<Null>\", \"Capacity_6\": \"<Null>\", \"Capacity_7\": \"<Null>\", \"Capacity_8\": \"<Null>\", \"Capacity_9\": \"<Null>\", \"FixedCost\": \"<Null>\", \"CostPerUnitTime\": 0.5, \"CostPerUnitDistance\": \"<Null>\", \"OvertimeStartTime\": 452, \"CostPerUnitOvertime\": 10, \"MaxOrderCount\": 60, \"MaxTotalTime\": 480, \"MaxTotalTravelTime\": \"<Null>\", \"MaxTotalDistance\": \"<Null>\", \"AssignmentRule\": \"Include\", \"ViolatedConstraint_1\": \"<Null>\", \"ViolatedConstraint_2\": \"<Null>\", \"ViolatedConstraint_3\": \"<Null>\", \"ViolatedConstraint_4\": \"<Null>\", \"OrderCount\": 54, \"TotalCost\": 273.637871, \"RegularTimeCost\": 226.0, \"OvertimeCost\": 47.637871, \"DistanceCost\": 0, \"TotalTime\": 456.763787, \"TotalOrderServiceTime\": 226, \"TotalBreakServiceTime\": 0, \"TotalTravelTime\": 230.763787, \"TotalDistance\": 165.571912, \"StartTime\": \"11/1/2023 21:00\", \"EndTime\": \"11/2/2023 4:36\", \"StartTimeUTC\": \"11/1/2023 8:00\", \"EndTimeUTC\": \"11/1/2023 15:36\", \"TotalWaitTime\": 0, \"TotalViolationTime\": 0, \"RenewalCount\": 0, \"TotalRenewalServiceTime\": 0, \"Shape_Length\": 3.013565, \"OBJECTID\": 1}}, {\"attributes\": {\"ObjectID *\": 2, \"Shape *\": \"Polyline M\", \"Name\": \"Route2\", \"Description\": \"<Null>\", \"StartDepotName\": \"5110 Arundel Rakaia Gorge Road, Alford Forest, Mount Somers, Canterbury, 7771\", \"EndDepotName\": \"5110 Arundel Rakaia Gorge Road, Alford Forest, Mount Somers, Canterbury, 7771\", \"StartDepotServiceTime\": \"<Null>\", \"EndDepotServiceTime\": \"<Null>\", \"EarliestStartTime\": 1698872400000.0, \"LatestStartTime\": 1698872400000.0, \"ArriveDepartDelay\": \"<Null>\", \"Capacity_1\": 60, \"Capacity_2\": \"<Null>\", \"Capacity_3\": \"<Null>\", \"Capacity_4\": \"<Null>\", \"Capacity_5\": \"<Null>\", \"Capacity_6\": \"<Null>\", \"Capacity_7\": \"<Null>\", \"Capacity_8\": \"<Null>\", \"Capacity_9\": \"<Null>\", \"FixedCost\": \"<Null>\", \"CostPerUnitTime\": 0.5, \"CostPerUnitDistance\": \"<Null>\", \"OvertimeStartTime\": 452, \"CostPerUnitOvertime\": 10, \"MaxOrderCount\": 60, \"MaxTotalTime\": 480, \"MaxTotalTravelTime\": \"<Null>\", \"MaxTotalDistance\": \"<Null>\", \"AssignmentRule\": \"Include\", \"ViolatedConstraint_1\": \"<Null>\", \"ViolatedConstraint_2\": \"<Null>\", \"ViolatedConstraint_3\": \"<Null>\", \"ViolatedConstraint_4\": \"<Null>\", \"OrderCount\": 54, \"TotalCost\": 215.324192, \"RegularTimeCost\": 215.324192, \"OvertimeCost\": 0.0, \"DistanceCost\": 0, \"TotalTime\": 430.648384, \"TotalOrderServiceTime\": 228, \"TotalBreakServiceTime\": 0, \"TotalTravelTime\": 202.648384, \"TotalDistance\": 146.270688, \"StartTime\": \"11/1/2023 21:00\", \"EndTime\": \"11/2/2023 4:10\", \"StartTimeUTC\": \"11/1/2023 8:00\", \"EndTimeUTC\": \"11/1/2023 15:10\", \"TotalWaitTime\": 0, \"TotalViolationTime\": 0, \"RenewalCount\": 0, \"TotalRenewalServiceTime\": 0, \"Shape_Length\": 2.65351, \"OBJECTID\": 2}}, {\"attributes\": {\"ObjectID *\": 3, \"Shape *\": \"Polyline M\", \"Name\": \"Route3\", \"Description\": \"<Null>\", \"StartDepotName\": \"5110 Arundel Rakaia Gorge Road, Alford Forest, Mount Somers, Canterbury, 7771\", \"EndDepotName\": \"5110 Arundel Rakaia Gorge Road, Alford Forest, Mount Somers, Canterbury, 7771\", \"StartDepotServiceTime\": \"<Null>\", \"EndDepotServiceTime\": \"<Null>\", \"EarliestStartTime\": 1698872400000.0, \"LatestStartTime\": 1698872400000.0, \"ArriveDepartDelay\": \"<Null>\", \"Capacity_1\": 60, \"Capacity_2\": \"<Null>\", \"Capacity_3\": \"<Null>\", \"Capacity_4\": \"<Null>\", \"Capacity_5\": \"<Null>\", \"Capacity_6\": \"<Null>\", \"Capacity_7\": \"<Null>\", \"Capacity_8\": \"<Null>\", \"Capacity_9\": \"<Null>\", \"FixedCost\": \"<Null>\", \"CostPerUnitTime\": 0.5, \"CostPerUnitDistance\": \"<Null>\", \"OvertimeStartTime\": 452, \"CostPerUnitOvertime\": 10, \"MaxOrderCount\": 60, \"MaxTotalTime\": 480, \"MaxTotalTravelTime\": \"<Null>\", \"MaxTotalDistance\": \"<Null>\", \"AssignmentRule\": \"Include\", \"ViolatedConstraint_1\": \"<Null>\", \"ViolatedConstraint_2\": \"<Null>\", \"ViolatedConstraint_3\": \"<Null>\", \"ViolatedConstraint_4\": \"<Null>\", \"OrderCount\": 57, \"TotalCost\": 230.339501, \"RegularTimeCost\": 226.0, \"OvertimeCost\": 4.339501, \"DistanceCost\": 0, \"TotalTime\": 452.43395, \"TotalOrderServiceTime\": 234, \"TotalBreakServiceTime\": 0, \"TotalTravelTime\": 218.43395, \"TotalDistance\": 154.595579, \"StartTime\": \"11/1/2023 21:00\", \"EndTime\": \"11/2/2023 4:32\", \"StartTimeUTC\": \"11/1/2023 8:00\", \"EndTimeUTC\": \"11/1/2023 15:32\", \"TotalWaitTime\": 0, \"TotalViolationTime\": 0, \"RenewalCount\": 0, \"TotalRenewalServiceTime\": 0, \"Shape_Length\": 2.787192, \"OBJECTID\": 3}}, {\"attributes\": {\"ObjectID *\": 4, \"Shape *\": \"Polyline M\", \"Name\": \"Route4\", \"Description\": \"<Null>\", \"StartDepotName\": \"5110 Arundel Rakaia Gorge Road, Alford Forest, Mount Somers, Canterbury, 7771\", \"EndDepotName\": \"5110 Arundel Rakaia Gorge Road, Alford Forest, Mount Somers, Canterbury, 7771\", \"StartDepotServiceTime\": \"<Null>\", \"EndDepotServiceTime\": \"<Null>\", \"EarliestStartTime\": 1698872400000.0, \"LatestStartTime\": 1698872400000.0, \"ArriveDepartDelay\": \"<Null>\", \"Capacity_1\": 60, \"Capacity_2\": \"<Null>\", \"Capacity_3\": \"<Null>\", \"Capacity_4\": \"<Null>\", \"Capacity_5\": \"<Null>\", \"Capacity_6\": \"<Null>\", \"Capacity_7\": \"<Null>\", \"Capacity_8\": \"<Null>\", \"Capacity_9\": \"<Null>\", \"FixedCost\": \"<Null>\", \"CostPerUnitTime\": 0.5, \"CostPerUnitDistance\": \"<Null>\", \"OvertimeStartTime\": 452, \"CostPerUnitOvertime\": 10, \"MaxOrderCount\": 60, \"MaxTotalTime\": 480, \"MaxTotalTravelTime\": \"<Null>\", \"MaxTotalDistance\": \"<Null>\", \"AssignmentRule\": \"Include\", \"ViolatedConstraint_1\": \"<Null>\", \"ViolatedConstraint_2\": \"<Null>\", \"ViolatedConstraint_3\": \"<Null>\", \"ViolatedConstraint_4\": \"<Null>\", \"OrderCount\": 51, \"TotalCost\": 222.225255, \"RegularTimeCost\": 222.225255, \"OvertimeCost\": 0.0, \"DistanceCost\": 0, \"TotalTime\": 444.45051, \"TotalOrderServiceTime\": 222, \"TotalBreakServiceTime\": 0, \"TotalTravelTime\": 222.45051, \"TotalDistance\": 152.825985, \"StartTime\": \"11/1/2023 21:00\", \"EndTime\": \"11/2/2023 4:24\", \"StartTimeUTC\": \"11/1/2023 8:00\", \"EndTimeUTC\": \"11/1/2023 15:24\", \"TotalWaitTime\": 0, \"TotalViolationTime\": 0, \"RenewalCount\": 0, \"TotalRenewalServiceTime\": 0, \"Shape_Length\": 2.814031, \"OBJECTID\": 4}}, {\"attributes\": {\"ObjectID *\": 5, \"Shape *\": \"Polyline M\", \"Name\": \"Route5\", \"Description\": \"<Null>\", \"StartDepotName\": \"5110 Arundel Rakaia Gorge Road, Alford Forest, Mount Somers, Canterbury, 7771\", \"EndDepotName\": \"5110 Arundel Rakaia Gorge Road, Alford Forest, Mount Somers, Canterbury, 7771\", \"StartDepotServiceTime\": \"<Null>\", \"EndDepotServiceTime\": \"<Null>\", \"EarliestStartTime\": 1698872400000.0, \"LatestStartTime\": 1698872400000.0, \"ArriveDepartDelay\": \"<Null>\", \"Capacity_1\": 60, \"Capacity_2\": \"<Null>\", \"Capacity_3\": \"<Null>\", \"Capacity_4\": \"<Null>\", \"Capacity_5\": \"<Null>\", \"Capacity_6\": \"<Null>\", \"Capacity_7\": \"<Null>\", \"Capacity_8\": \"<Null>\", \"Capacity_9\": \"<Null>\", \"FixedCost\": \"<Null>\", \"CostPerUnitTime\": 0.5, \"CostPerUnitDistance\": \"<Null>\", \"OvertimeStartTime\": 452, \"CostPerUnitOvertime\": 10, \"MaxOrderCount\": 60, \"MaxTotalTime\": 480, \"MaxTotalTravelTime\": \"<Null>\", \"MaxTotalDistance\": \"<Null>\", \"AssignmentRule\": \"Include\", \"ViolatedConstraint_1\": \"<Null>\", \"ViolatedConstraint_2\": \"<Null>\", \"ViolatedConstraint_3\": \"<Null>\", \"ViolatedConstraint_4\": \"<Null>\", \"OrderCount\": 53, \"TotalCost\": 233.21777, \"RegularTimeCost\": 226.0, \"OvertimeCost\": 7.21777, \"DistanceCost\": 0, \"TotalTime\": 452.721777, \"TotalOrderServiceTime\": 226, \"TotalBreakServiceTime\": 0, \"TotalTravelTime\": 226.721777, \"TotalDistance\": 157.416889, \"StartTime\": \"11/1/2023 21:00\", \"EndTime\": \"11/2/2023 4:32\", \"StartTimeUTC\": \"11/1/2023 8:00\", \"EndTimeUTC\": \"11/1/2023 15:32\", \"TotalWaitTime\": 0, \"TotalViolationTime\": 0, \"RenewalCount\": 0, \"TotalRenewalServiceTime\": 0, \"Shape_Length\": 2.806011, \"OBJECTID\": 5}}, {\"attributes\": {\"ObjectID *\": 6, \"Shape *\": \"Polyline M\", \"Name\": \"Route6\", \"Description\": \"<Null>\", \"StartDepotName\": \"5110 Arundel Rakaia Gorge Road, Alford Forest, Mount Somers, Canterbury, 7771\", \"EndDepotName\": \"5110 Arundel Rakaia Gorge Road, Alford Forest, Mount Somers, Canterbury, 7771\", \"StartDepotServiceTime\": \"<Null>\", \"EndDepotServiceTime\": \"<Null>\", \"EarliestStartTime\": 1698872400000.0, \"LatestStartTime\": 1698872400000.0, \"ArriveDepartDelay\": \"<Null>\", \"Capacity_1\": 60, \"Capacity_2\": \"<Null>\", \"Capacity_3\": \"<Null>\", \"Capacity_4\": \"<Null>\", \"Capacity_5\": \"<Null>\", \"Capacity_6\": \"<Null>\", \"Capacity_7\": \"<Null>\", \"Capacity_8\": \"<Null>\", \"Capacity_9\": \"<Null>\", \"FixedCost\": \"<Null>\", \"CostPerUnitTime\": 0.5, \"CostPerUnitDistance\": \"<Null>\", \"OvertimeStartTime\": 452, \"CostPerUnitOvertime\": 10, \"MaxOrderCount\": 60, \"MaxTotalTime\": 480, \"MaxTotalTravelTime\": \"<Null>\", \"MaxTotalDistance\": \"<Null>\", \"AssignmentRule\": \"Include\", \"ViolatedConstraint_1\": \"<Null>\", \"ViolatedConstraint_2\": \"<Null>\", \"ViolatedConstraint_3\": \"<Null>\", \"ViolatedConstraint_4\": \"<Null>\", \"OrderCount\": 57, \"TotalCost\": 224.893081, \"RegularTimeCost\": 224.893081, \"OvertimeCost\": 0.0, \"DistanceCost\": 0, \"TotalTime\": 449.786163, \"TotalOrderServiceTime\": 234, \"TotalBreakServiceTime\": 0, \"TotalTravelTime\": 215.786163, \"TotalDistance\": 143.130846, \"StartTime\": \"11/1/2023 21:00\", \"EndTime\": \"11/2/2023 4:29\", \"StartTimeUTC\": \"11/1/2023 8:00\", \"EndTimeUTC\": \"11/1/2023 15:29\", \"TotalWaitTime\": 0, \"TotalViolationTime\": 0, \"RenewalCount\": 0, \"TotalRenewalServiceTime\": 0, \"Shape_Length\": 2.658448, \"OBJECTID\": 6}}, {\"attributes\": {\"ObjectID *\": 7, \"Shape *\": \"Polyline M\", \"Name\": \"Route7\", \"Description\": \"<Null>\", \"StartDepotName\": \"5110 Arundel Rakaia Gorge Road, Alford Forest, Mount Somers, Canterbury, 7771\", \"EndDepotName\": \"5110 Arundel Rakaia Gorge Road, Alford Forest, Mount Somers, Canterbury, 7771\", \"StartDepotServiceTime\": \"<Null>\", \"EndDepotServiceTime\": \"<Null>\", \"EarliestStartTime\": 1698872400000.0, \"LatestStartTime\": 1698872400000.0, \"ArriveDepartDelay\": \"<Null>\", \"Capacity_1\": 60, \"Capacity_2\": \"<Null>\", \"Capacity_3\": \"<Null>\", \"Capacity_4\": \"<Null>\", \"Capacity_5\": \"<Null>\", \"Capacity_6\": \"<Null>\", \"Capacity_7\": \"<Null>\", \"Capacity_8\": \"<Null>\", \"Capacity_9\": \"<Null>\", \"FixedCost\": \"<Null>\", \"CostPerUnitTime\": 0.5, \"CostPerUnitDistance\": \"<Null>\", \"OvertimeStartTime\": 452, \"CostPerUnitOvertime\": 10, \"MaxOrderCount\": 60, \"MaxTotalTime\": 480, \"MaxTotalTravelTime\": \"<Null>\", \"MaxTotalDistance\": \"<Null>\", \"AssignmentRule\": \"Include\", \"ViolatedConstraint_1\": \"<Null>\", \"ViolatedConstraint_2\": \"<Null>\", \"ViolatedConstraint_3\": \"<Null>\", \"ViolatedConstraint_4\": \"<Null>\", \"OrderCount\": 54, \"TotalCost\": 441.356926, \"RegularTimeCost\": 226.0, \"OvertimeCost\": 215.356926, \"DistanceCost\": 0, \"TotalTime\": 473.535693, \"TotalOrderServiceTime\": 226, \"TotalBreakServiceTime\": 0, \"TotalTravelTime\": 247.535693, \"TotalDistance\": 166.242871, \"StartTime\": \"11/1/2023 21:00\", \"EndTime\": \"11/2/2023 4:53\", \"StartTimeUTC\": \"11/1/2023 8:00\", \"EndTimeUTC\": \"11/1/2023 15:53\", \"TotalWaitTime\": 0, \"TotalViolationTime\": 0, \"RenewalCount\": 0, \"TotalRenewalServiceTime\": 0, \"Shape_Length\": 3.010502, \"OBJECTID\": 7}}, {\"attributes\": {\"ObjectID *\": 8, \"Shape *\": \"Polyline M\", \"Name\": \"Route8\", \"Description\": \"<Null>\", \"StartDepotName\": \"5110 Arundel Rakaia Gorge Road, Alford Forest, Mount Somers, Canterbury, 7771\", \"EndDepotName\": \"5110 Arundel Rakaia Gorge Road, Alford Forest, Mount Somers, Canterbury, 7771\", \"StartDepotServiceTime\": \"<Null>\", \"EndDepotServiceTime\": \"<Null>\", \"EarliestStartTime\": 1698872400000.0, \"LatestStartTime\": 1698872400000.0, \"ArriveDepartDelay\": \"<Null>\", \"Capacity_1\": 60, \"Capacity_2\": \"<Null>\", \"Capacity_3\": \"<Null>\", \"Capacity_4\": \"<Null>\", \"Capacity_5\": \"<Null>\", \"Capacity_6\": \"<Null>\", \"Capacity_7\": \"<Null>\", \"Capacity_8\": \"<Null>\", \"Capacity_9\": \"<Null>\", \"FixedCost\": \"<Null>\", \"CostPerUnitTime\": 0.5, \"CostPerUnitDistance\": \"<Null>\", \"OvertimeStartTime\": 452, \"CostPerUnitOvertime\": 10, \"MaxOrderCount\": 60, \"MaxTotalTime\": 480, \"MaxTotalTravelTime\": \"<Null>\", \"MaxTotalDistance\": \"<Null>\", \"AssignmentRule\": \"Include\", \"ViolatedConstraint_1\": \"<Null>\", \"ViolatedConstraint_2\": \"<Null>\", \"ViolatedConstraint_3\": \"<Null>\", \"ViolatedConstraint_4\": \"<Null>\", \"OrderCount\": 51, \"TotalCost\": 229.640951, \"RegularTimeCost\": 226.0, \"OvertimeCost\": 3.640951, \"DistanceCost\": 0, \"TotalTime\": 452.364095, \"TotalOrderServiceTime\": 210, \"TotalBreakServiceTime\": 0, \"TotalTravelTime\": 242.364095, \"TotalDistance\": 164.510065, \"StartTime\": \"11/1/2023 21:00\", \"EndTime\": \"11/2/2023 4:32\", \"StartTimeUTC\": \"11/1/2023 8:00\", \"EndTimeUTC\": \"11/1/2023 15:32\", \"TotalWaitTime\": 0, \"TotalViolationTime\": 0, \"RenewalCount\": 0, \"TotalRenewalServiceTime\": 0, \"Shape_Length\": 2.993119, \"OBJECTID\": 8}}, {\"attributes\": {\"ObjectID *\": 9, \"Shape *\": \"Polyline M\", \"Name\": \"Route9\", \"Description\": \"<Null>\", \"StartDepotName\": \"5110 Arundel Rakaia Gorge Road, Alford Forest, Mount Somers, Canterbury, 7771\", \"EndDepotName\": \"5110 Arundel Rakaia Gorge Road, Alford Forest, Mount Somers, Canterbury, 7771\", \"StartDepotServiceTime\": \"<Null>\", \"EndDepotServiceTime\": \"<Null>\", \"EarliestStartTime\": 1698872400000.0, \"LatestStartTime\": 1698872400000.0, \"ArriveDepartDelay\": \"<Null>\", \"Capacity_1\": 60, \"Capacity_2\": \"<Null>\", \"Capacity_3\": \"<Null>\", \"Capacity_4\": \"<Null>\", \"Capacity_5\": \"<Null>\", \"Capacity_6\": \"<Null>\", \"Capacity_7\": \"<Null>\", \"Capacity_8\": \"<Null>\", \"Capacity_9\": \"<Null>\", \"FixedCost\": \"<Null>\", \"CostPerUnitTime\": 0.5, \"CostPerUnitDistance\": \"<Null>\", \"OvertimeStartTime\": 452, \"CostPerUnitOvertime\": 10, \"MaxOrderCount\": 60, \"MaxTotalTime\": 480, \"MaxTotalTravelTime\": \"<Null>\", \"MaxTotalDistance\": \"<Null>\", \"AssignmentRule\": \"Include\", \"ViolatedConstraint_1\": \"<Null>\", \"ViolatedConstraint_2\": \"<Null>\", \"ViolatedConstraint_3\": \"<Null>\", \"ViolatedConstraint_4\": \"<Null>\", \"OrderCount\": 52, \"TotalCost\": 266.454094, \"RegularTimeCost\": 226.0, \"OvertimeCost\": 40.454094, \"DistanceCost\": 0, \"TotalTime\": 456.045409, \"TotalOrderServiceTime\": 214, \"TotalBreakServiceTime\": 0, \"TotalTravelTime\": 242.045409, \"TotalDistance\": 163.739058, \"StartTime\": \"11/1/2023 21:00\", \"EndTime\": \"11/2/2023 4:36\", \"StartTimeUTC\": \"11/1/2023 8:00\", \"EndTimeUTC\": \"11/1/2023 15:36\", \"TotalWaitTime\": 0, \"TotalViolationTime\": 0, \"RenewalCount\": 0, \"TotalRenewalServiceTime\": 0, \"Shape_Length\": 2.898954, \"OBJECTID\": 9}}], \"objectIdFieldName\": \"OBJECTID\", \"fields\": [{\"name\": \"ObjectID *\", \"type\": \"esriFieldTypeDouble\"}, {\"name\": \"Shape *\", \"type\": \"esriFieldTypeString\"}, {\"name\": \"Name\", \"type\": \"esriFieldTypeString\"}, {\"name\": \"Description\", \"type\": \"esriFieldTypeString\"}, {\"name\": \"StartDepotName\", \"type\": \"esriFieldTypeString\"}, {\"name\": \"EndDepotName\", \"type\": \"esriFieldTypeString\"}, {\"name\": \"StartDepotServiceTime\", \"type\": \"esriFieldTypeString\"}, {\"name\": \"EndDepotServiceTime\", \"type\": \"esriFieldTypeString\"}, {\"name\": \"EarliestStartTime\", \"type\": \"esriFieldTypeDouble\"}, {\"name\": \"LatestStartTime\", \"type\": \"esriFieldTypeDouble\"}, {\"name\": \"ArriveDepartDelay\", \"type\": \"esriFieldTypeString\"}, {\"name\": \"Capacity_1\", \"type\": \"esriFieldTypeDouble\"}, {\"name\": \"Capacity_2\", \"type\": \"esriFieldTypeString\"}, {\"name\": \"Capacity_3\", \"type\": \"esriFieldTypeString\"}, {\"name\": \"Capacity_4\", \"type\": \"esriFieldTypeString\"}, {\"name\": \"Capacity_5\", \"type\": \"esriFieldTypeString\"}, {\"name\": \"Capacity_6\", \"type\": \"esriFieldTypeString\"}, {\"name\": \"Capacity_7\", \"type\": \"esriFieldTypeString\"}, {\"name\": \"Capacity_8\", \"type\": \"esriFieldTypeString\"}, {\"name\": \"Capacity_9\", \"type\": \"esriFieldTypeString\"}, {\"name\": \"FixedCost\", \"type\": \"esriFieldTypeString\"}, {\"name\": \"CostPerUnitTime\", \"type\": \"esriFieldTypeDouble\"}, {\"name\": \"CostPerUnitDistance\", \"type\": \"esriFieldTypeString\"}, {\"name\": \"OvertimeStartTime\", \"type\": \"esriFieldTypeDouble\"}, {\"name\": \"CostPerUnitOvertime\", \"type\": \"esriFieldTypeDouble\"}, {\"name\": \"MaxOrderCount\", \"type\": \"esriFieldTypeDouble\"}, {\"name\": \"MaxTotalTime\", \"type\": \"esriFieldTypeDouble\"}, {\"name\": \"MaxTotalTravelTime\", \"type\": \"esriFieldTypeString\"}, {\"name\": \"MaxTotalDistance\", \"type\": \"esriFieldTypeString\"}, {\"name\": \"AssignmentRule\", \"type\": \"esriFieldTypeString\"}, {\"name\": \"ViolatedConstraint_1\", \"type\": \"esriFieldTypeString\"}, {\"name\": \"ViolatedConstraint_2\", \"type\": \"esriFieldTypeString\"}, {\"name\": \"ViolatedConstraint_3\", \"type\": \"esriFieldTypeString\"}, {\"name\": \"ViolatedConstraint_4\", \"type\": \"esriFieldTypeString\"}, {\"name\": \"OrderCount\", \"type\": \"esriFieldTypeDouble\"}, {\"name\": \"TotalCost\", \"type\": \"esriFieldTypeDouble\"}, {\"name\": \"RegularTimeCost\", \"type\": \"esriFieldTypeDouble\"}, {\"name\": \"OvertimeCost\", \"type\": \"esriFieldTypeDouble\"}, {\"name\": \"DistanceCost\", \"type\": \"esriFieldTypeDouble\"}, {\"name\": \"TotalTime\", \"type\": \"esriFieldTypeDouble\"}, {\"name\": \"TotalOrderServiceTime\", \"type\": \"esriFieldTypeDouble\"}, {\"name\": \"TotalBreakServiceTime\", \"type\": \"esriFieldTypeDouble\"}, {\"name\": \"TotalTravelTime\", \"type\": \"esriFieldTypeDouble\"}, {\"name\": \"TotalDistance\", \"type\": \"esriFieldTypeDouble\"}, {\"name\": \"StartTime\", \"type\": \"esriFieldTypeString\"}, {\"name\": \"EndTime\", \"type\": \"esriFieldTypeString\"}, {\"name\": \"StartTimeUTC\", \"type\": \"esriFieldTypeString\"}, {\"name\": \"EndTimeUTC\", \"type\": \"esriFieldTypeString\"}, {\"name\": \"TotalWaitTime\", \"type\": \"esriFieldTypeDouble\"}, {\"name\": \"TotalViolationTime\", \"type\": \"esriFieldTypeDouble\"}, {\"name\": \"RenewalCount\", \"type\": \"esriFieldTypeDouble\"}, {\"name\": \"TotalRenewalServiceTime\", \"type\": \"esriFieldTypeDouble\"}, {\"name\": \"Shape_Length\", \"type\": \"esriFieldTypeDouble\"}]}"
     ]
    },
    {
     "name": "stdout",
     "output_type": "stream",
     "text": [
      "\n"
     ]
    }
   ],
   "source": [
    "print(routes_fset)"
   ]
  },
  {
   "cell_type": "markdown",
   "metadata": {},
   "source": [
    "### 5. Create Depots Layer with an Address"
   ]
  },
  {
   "cell_type": "code",
   "execution_count": 42,
   "metadata": {},
   "outputs": [
    {
     "data": {
      "text/plain": [
       "<FeatureSet> 1 features"
      ]
     },
     "execution_count": 42,
     "metadata": {},
     "output_type": "execute_result"
    }
   ],
   "source": [
    "depot_geocoded_fs = geocoding.geocode(\"5110 Arundel Rakaia Gorge Road, Alford Forest, Mount Somers, Canterbury, 7771\", \n",
    "                                      as_featureset=True, max_locations=1)\n",
    "depot_geocoded_fs.features[0].attributes[\"Name\"] = \"5110 Arundel Rakaia Gorge Road, Alford Forest, Mount Somers, Canterbury, 7771\"\n",
    "depot_geocoded_fs"
   ]
  },
  {
   "cell_type": "code",
   "execution_count": 43,
   "metadata": {},
   "outputs": [
    {
     "ename": "AttributeError",
     "evalue": "'FeatureSet' object has no attribute 'head'",
     "output_type": "error",
     "traceback": [
      "\u001b[0;31m---------------------------------------------------------------------------\u001b[0m\n\u001b[0;31mAttributeError\u001b[0m                            Traceback (most recent call last)",
      "In  \u001b[0;34m[43]\u001b[0m:\nLine \u001b[0;34m1\u001b[0m:     depot_geocoded_fs.head()\n",
      "\u001b[0;31mAttributeError\u001b[0m: 'FeatureSet' object has no attribute 'head'\n\u001b[0;31m---------------------------------------------------------------------------\u001b[0m"
     ]
    }
   ],
   "source": []
  },
  {
   "cell_type": "code",
   "execution_count": 40,
   "metadata": {},
   "outputs": [
    {
     "data": {
      "text/plain": [
       "<FeatureSet> 1 features"
      ]
     },
     "execution_count": 40,
     "metadata": {},
     "output_type": "execute_result"
    }
   ],
   "source": [
    "depot_geocoded_fs.features\n",
    "depots_fset = depot_geocoded_fs.sdf.spatial.to_featureset()\n",
    "depot_geocoded_fs"
   ]
  },
  {
   "cell_type": "code",
   "execution_count": 47,
   "metadata": {},
   "outputs": [
    {
     "data": {
      "text/plain": [
       "'\\\\\\\\Mac\\\\Home\\\\gigi_git\\\\OptimizedRoutes\\\\VRP.gdb\\\\depots_feature_class'"
      ]
     },
     "execution_count": 47,
     "metadata": {},
     "output_type": "execute_result"
    }
   ],
   "source": [
    "out_name = \"depots_feature_class\"\n",
    "depot_geocoded_fs.save(out_path, out_name)"
   ]
  },
  {
   "cell_type": "markdown",
   "metadata": {},
   "source": [
    "### 6. Draw the Depots and Orders in map"
   ]
  },
  {
   "cell_type": "code",
   "execution_count": 45,
   "metadata": {},
   "outputs": [
    {
     "data": {
      "application/vnd.jupyter.widget-view+json": {
       "model_id": "6e9a2f117a3c4b94a89f2896e6f4cd5e",
       "version_major": 2,
       "version_minor": 0
      },
      "text/plain": [
       "MapView(layout=Layout(height='400px', width='100%'))"
      ]
     },
     "metadata": {},
     "output_type": "display_data"
    },
    {
     "data": {
      "text/html": [
       "<div class=\"map-static-img-preview-2d4e3e68-6ee3-4aef-96b0-1bd0f6f6c2a1\"><img src=\"\"></img></div>"
      ],
      "text/plain": [
       "<display.HTML object>"
      ]
     },
     "metadata": {},
     "output_type": "display_data"
    },
    {
     "data": {
      "text/html": [
       "<div class=\"map-html-embed-preview-2d4e3e68-6ee3-4aef-96b0-1bd0f6f6c2a1\"></div>"
      ],
      "text/plain": [
       "<display.HTML object>"
      ]
     },
     "metadata": {},
     "output_type": "display_data"
    }
   ],
   "source": [
    "# Create a map instance to visualize inputs in map\n",
    "map_view_inputs = gis.map('Christchurch, New Zealand', zoomlevel=8)\n",
    "map_view_inputs"
   ]
  },
  {
   "cell_type": "code",
   "execution_count": 46,
   "metadata": {},
   "outputs": [],
   "source": [
    "# Visualize order and depot locations with symbology\n",
    "map_view_inputs.draw(orders_fset, symbol={\"type\": \"esriSMS\",\"style\": \"esriSMSCircle\",\"color\": [76,115,0,255],\"size\": 8})\n",
    "map_view_inputs.draw(depot_geocoded_fs, symbol={\"type\": \"esriSMS\",\"style\": \"esriSMSSquare\",\"color\": [255,115,0,255], \"size\": 10})"
   ]
  },
  {
   "cell_type": "markdown",
   "metadata": {},
   "source": [
    "### 7. Solve VRP"
   ]
  },
  {
   "cell_type": "code",
   "execution_count": 54,
   "metadata": {
    "scrolled": true
   },
   "outputs": [
    {
     "name": "stderr",
     "output_type": "stream",
     "text": [
      "WARNING 030194: Data values longer than 500 characters for field [Routes:Description] are truncated.\n",
      "WARNING 030194: Data values longer than 500 characters for field [Routes:StartDepotName] are truncated.\n",
      "WARNING 030194: Data values longer than 500 characters for field [Routes:EndDepotName] are truncated.\n"
     ]
    },
    {
     "name": "stdout",
     "output_type": "stream",
     "text": [
      "Analysis succeeded? True\n",
      "Wall time: 40.7 s\n"
     ]
    }
   ],
   "source": [
    "%%time\n",
    "today = datetime.datetime.now()\n",
    "from arcgis.network.analysis import solve_vehicle_routing_problem\n",
    "\n",
    "results = solve_vehicle_routing_problem(orders= orders_fset,\n",
    "                                        depots = depots_fset,\n",
    "                                        routes = routes_fset, \n",
    "                                        save_route_data='true',\n",
    "                                        populate_directions='true',\n",
    "                                        travel_mode=\"Driving Time\",\n",
    "                                        default_date=today)\n",
    "\n",
    "print('Analysis succeeded? {}'.format(results.solve_succeeded))"
   ]
  },
  {
   "cell_type": "code",
   "execution_count": 64,
   "metadata": {},
   "outputs": [
    {
     "name": "stdout",
     "output_type": "stream",
     "text": [
      "   ObjectID  ...                                              SHAPE\n",
      "0         1  ...  {'paths': [[[171.5234709550001, -43.6085045059...\n",
      "1         2  ...  {'paths': [[[171.5234709550001, -43.6085045059...\n",
      "2         3  ...  {'paths': [[[171.5234709550001, -43.6085045059...\n",
      "3         4  ...  {'paths': [[[171.5234709550001, -43.6085045059...\n",
      "4         5  ...  {'paths': [[[171.5234709550001, -43.6085045059...\n",
      "5         6  ...  {'paths': [[[171.5234709550001, -43.6085045059...\n",
      "6         7  ...  {'paths': [[[171.5234709550001, -43.6085045059...\n",
      "7         8  ...  {'paths': [[[171.5234709550001, -43.6085045059...\n",
      "8         9  ...  {'paths': [[[171.5234709550001, -43.6085045059...\n",
      "\n",
      "[9 rows x 27 columns]\n"
     ]
    }
   ],
   "source": [
    "df = pd.DataFrame([f.attributes for f in results.out_routes.features])\n",
    "print(df)"
   ]
  },
  {
   "cell_type": "markdown",
   "metadata": {},
   "source": [
    "### 8. Look into the Results"
   ]
  },
  {
   "cell_type": "code",
   "execution_count": 55,
   "metadata": {},
   "outputs": [
    {
     "data": {
      "text/html": [
       "<div>\n",
       "<style scoped>\n",
       "    .dataframe tbody tr th:only-of-type {\n",
       "        vertical-align: middle;\n",
       "    }\n",
       "\n",
       "    .dataframe tbody tr th {\n",
       "        vertical-align: top;\n",
       "    }\n",
       "\n",
       "    .dataframe thead th {\n",
       "        text-align: right;\n",
       "    }\n",
       "</style>\n",
       "<table border=\"1\" class=\"dataframe\">\n",
       "  <thead>\n",
       "    <tr style=\"text-align: right;\">\n",
       "      <th></th>\n",
       "      <th>Name</th>\n",
       "      <th>OrderCount</th>\n",
       "      <th>StartTime</th>\n",
       "      <th>EndTime</th>\n",
       "      <th>TotalCost</th>\n",
       "      <th>TotalDistance</th>\n",
       "      <th>TotalTime</th>\n",
       "      <th>TotalTravelTime</th>\n",
       "      <th>StartTimeUTC</th>\n",
       "      <th>EndTimeUTC</th>\n",
       "    </tr>\n",
       "  </thead>\n",
       "  <tbody>\n",
       "    <tr>\n",
       "      <th>0</th>\n",
       "      <td>Route1</td>\n",
       "      <td>47</td>\n",
       "      <td>2023-11-14 08:00:00</td>\n",
       "      <td>2023-11-14 11:26:11.727000</td>\n",
       "      <td>103.097723</td>\n",
       "      <td>154.987466</td>\n",
       "      <td>206.195446</td>\n",
       "      <td>206.195446</td>\n",
       "      <td>2023-11-13 19:00:00</td>\n",
       "      <td>2023-11-13 22:26:11.727000</td>\n",
       "    </tr>\n",
       "    <tr>\n",
       "      <th>1</th>\n",
       "      <td>Route2</td>\n",
       "      <td>53</td>\n",
       "      <td>2023-11-14 08:00:00</td>\n",
       "      <td>2023-11-14 10:45:41.372999</td>\n",
       "      <td>82.844771</td>\n",
       "      <td>126.225504</td>\n",
       "      <td>165.689542</td>\n",
       "      <td>165.689542</td>\n",
       "      <td>2023-11-13 19:00:00</td>\n",
       "      <td>2023-11-13 21:45:41.372999</td>\n",
       "    </tr>\n",
       "    <tr>\n",
       "      <th>2</th>\n",
       "      <td>Route3</td>\n",
       "      <td>60</td>\n",
       "      <td>2023-11-14 08:00:00</td>\n",
       "      <td>2023-11-14 11:17:14.848999</td>\n",
       "      <td>98.623745</td>\n",
       "      <td>144.058168</td>\n",
       "      <td>197.24749</td>\n",
       "      <td>197.24749</td>\n",
       "      <td>2023-11-13 19:00:00</td>\n",
       "      <td>2023-11-13 22:17:14.848999</td>\n",
       "    </tr>\n",
       "    <tr>\n",
       "      <th>3</th>\n",
       "      <td>Route4</td>\n",
       "      <td>37</td>\n",
       "      <td>2023-11-14 08:00:00</td>\n",
       "      <td>2023-11-14 11:00:56.698999</td>\n",
       "      <td>90.472491</td>\n",
       "      <td>140.229108</td>\n",
       "      <td>180.944981</td>\n",
       "      <td>180.944981</td>\n",
       "      <td>2023-11-13 19:00:00</td>\n",
       "      <td>2023-11-13 22:00:56.698999</td>\n",
       "    </tr>\n",
       "    <tr>\n",
       "      <th>4</th>\n",
       "      <td>Route5</td>\n",
       "      <td>60</td>\n",
       "      <td>2023-11-14 08:00:00</td>\n",
       "      <td>2023-11-14 11:20:51.556000</td>\n",
       "      <td>100.42963</td>\n",
       "      <td>141.569693</td>\n",
       "      <td>200.859261</td>\n",
       "      <td>200.859261</td>\n",
       "      <td>2023-11-13 19:00:00</td>\n",
       "      <td>2023-11-13 22:20:51.556000</td>\n",
       "    </tr>\n",
       "    <tr>\n",
       "      <th>5</th>\n",
       "      <td>Route6</td>\n",
       "      <td>60</td>\n",
       "      <td>2023-11-14 08:00:00</td>\n",
       "      <td>2023-11-14 11:32:55.811000</td>\n",
       "      <td>106.465091</td>\n",
       "      <td>150.074354</td>\n",
       "      <td>212.930182</td>\n",
       "      <td>212.930182</td>\n",
       "      <td>2023-11-13 19:00:00</td>\n",
       "      <td>2023-11-13 22:32:55.811000</td>\n",
       "    </tr>\n",
       "    <tr>\n",
       "      <th>6</th>\n",
       "      <td>Route7</td>\n",
       "      <td>60</td>\n",
       "      <td>2023-11-14 08:00:00</td>\n",
       "      <td>2023-11-14 11:43:35.759000</td>\n",
       "      <td>111.797993</td>\n",
       "      <td>154.35949</td>\n",
       "      <td>223.595985</td>\n",
       "      <td>223.595985</td>\n",
       "      <td>2023-11-13 19:00:00</td>\n",
       "      <td>2023-11-13 22:43:35.759000</td>\n",
       "    </tr>\n",
       "    <tr>\n",
       "      <th>7</th>\n",
       "      <td>Route8</td>\n",
       "      <td>53</td>\n",
       "      <td>2023-11-14 08:00:00</td>\n",
       "      <td>2023-11-14 11:37:36.964999</td>\n",
       "      <td>108.808044</td>\n",
       "      <td>152.885388</td>\n",
       "      <td>217.616088</td>\n",
       "      <td>217.616088</td>\n",
       "      <td>2023-11-13 19:00:00</td>\n",
       "      <td>2023-11-13 22:37:36.964999</td>\n",
       "    </tr>\n",
       "    <tr>\n",
       "      <th>8</th>\n",
       "      <td>Route9</td>\n",
       "      <td>53</td>\n",
       "      <td>2023-11-14 08:00:00</td>\n",
       "      <td>2023-11-14 11:09:42.910000</td>\n",
       "      <td>94.857587</td>\n",
       "      <td>137.55047</td>\n",
       "      <td>189.715174</td>\n",
       "      <td>189.715174</td>\n",
       "      <td>2023-11-13 19:00:00</td>\n",
       "      <td>2023-11-13 22:09:42.910000</td>\n",
       "    </tr>\n",
       "  </tbody>\n",
       "</table>\n",
       "</div>"
      ],
      "text/plain": [
       "     Name  OrderCount  ...        StartTimeUTC                 EndTimeUTC\n",
       "0  Route1          47  ... 2023-11-13 19:00:00 2023-11-13 22:26:11.727000\n",
       "1  Route2          53  ... 2023-11-13 19:00:00 2023-11-13 21:45:41.372999\n",
       "2  Route3          60  ... 2023-11-13 19:00:00 2023-11-13 22:17:14.848999\n",
       "3  Route4          37  ... 2023-11-13 19:00:00 2023-11-13 22:00:56.698999\n",
       "4  Route5          60  ... 2023-11-13 19:00:00 2023-11-13 22:20:51.556000\n",
       "5  Route6          60  ... 2023-11-13 19:00:00 2023-11-13 22:32:55.811000\n",
       "6  Route7          60  ... 2023-11-13 19:00:00 2023-11-13 22:43:35.759000\n",
       "7  Route8          53  ... 2023-11-13 19:00:00 2023-11-13 22:37:36.964999\n",
       "8  Route9          53  ... 2023-11-13 19:00:00 2023-11-13 22:09:42.910000\n",
       "\n",
       "[9 rows x 10 columns]"
      ]
     },
     "execution_count": 55,
     "metadata": {},
     "output_type": "execute_result"
    }
   ],
   "source": [
    "# Display the output routes in a pandas dataframe.\n",
    "out_routes_df = results.out_routes.sdf\n",
    "out_routes_df[['Name','OrderCount','StartTime','EndTime','TotalCost','TotalDistance','TotalTime','TotalTravelTime','StartTimeUTC','EndTimeUTC']]"
   ]
  },
  {
   "cell_type": "code",
   "execution_count": 56,
   "metadata": {},
   "outputs": [
    {
     "data": {
      "text/html": [
       "<div>\n",
       "<style scoped>\n",
       "    .dataframe tbody tr th:only-of-type {\n",
       "        vertical-align: middle;\n",
       "    }\n",
       "\n",
       "    .dataframe tbody tr th {\n",
       "        vertical-align: top;\n",
       "    }\n",
       "\n",
       "    .dataframe thead th {\n",
       "        text-align: right;\n",
       "    }\n",
       "</style>\n",
       "<table border=\"1\" class=\"dataframe\">\n",
       "  <thead>\n",
       "    <tr style=\"text-align: right;\">\n",
       "      <th></th>\n",
       "      <th>Name</th>\n",
       "      <th>RouteName</th>\n",
       "      <th>Sequence</th>\n",
       "      <th>ArriveTime</th>\n",
       "      <th>DepartTime</th>\n",
       "    </tr>\n",
       "  </thead>\n",
       "  <tbody>\n",
       "    <tr>\n",
       "      <th>483</th>\n",
       "      <td>5110 Arundel Rakaia Gorge Road, Alford Forest,...</td>\n",
       "      <td>Route1</td>\n",
       "      <td>1</td>\n",
       "      <td>2023-11-14 08:00:00.000000</td>\n",
       "      <td>2023-11-14 08:00:00.000000</td>\n",
       "    </tr>\n",
       "    <tr>\n",
       "      <th>435</th>\n",
       "      <td>Location 436</td>\n",
       "      <td>Route1</td>\n",
       "      <td>2</td>\n",
       "      <td>2023-11-14 09:19:00.384999</td>\n",
       "      <td>2023-11-14 09:19:00.384999</td>\n",
       "    </tr>\n",
       "    <tr>\n",
       "      <th>437</th>\n",
       "      <td>Location 438</td>\n",
       "      <td>Route1</td>\n",
       "      <td>3</td>\n",
       "      <td>2023-11-14 09:19:06.365999</td>\n",
       "      <td>2023-11-14 09:19:06.365999</td>\n",
       "    </tr>\n",
       "    <tr>\n",
       "      <th>438</th>\n",
       "      <td>Location 439</td>\n",
       "      <td>Route1</td>\n",
       "      <td>4</td>\n",
       "      <td>2023-11-14 09:19:25.971000</td>\n",
       "      <td>2023-11-14 09:19:25.971000</td>\n",
       "    </tr>\n",
       "    <tr>\n",
       "      <th>441</th>\n",
       "      <td>Location 442</td>\n",
       "      <td>Route1</td>\n",
       "      <td>5</td>\n",
       "      <td>2023-11-14 09:20:15.412000</td>\n",
       "      <td>2023-11-14 09:20:15.412000</td>\n",
       "    </tr>\n",
       "    <tr>\n",
       "      <th>...</th>\n",
       "      <td>...</td>\n",
       "      <td>...</td>\n",
       "      <td>...</td>\n",
       "      <td>...</td>\n",
       "      <td>...</td>\n",
       "    </tr>\n",
       "    <tr>\n",
       "      <th>272</th>\n",
       "      <td>Location 273</td>\n",
       "      <td>Route9</td>\n",
       "      <td>51</td>\n",
       "      <td>2023-11-14 09:59:18.305999</td>\n",
       "      <td>2023-11-14 09:59:18.305999</td>\n",
       "    </tr>\n",
       "    <tr>\n",
       "      <th>273</th>\n",
       "      <td>Location 274</td>\n",
       "      <td>Route9</td>\n",
       "      <td>52</td>\n",
       "      <td>2023-11-14 10:00:05.967000</td>\n",
       "      <td>2023-11-14 10:00:05.967000</td>\n",
       "    </tr>\n",
       "    <tr>\n",
       "      <th>262</th>\n",
       "      <td>Location 263</td>\n",
       "      <td>Route9</td>\n",
       "      <td>53</td>\n",
       "      <td>2023-11-14 10:03:30.408999</td>\n",
       "      <td>2023-11-14 10:03:30.408999</td>\n",
       "    </tr>\n",
       "    <tr>\n",
       "      <th>173</th>\n",
       "      <td>Location 174</td>\n",
       "      <td>Route9</td>\n",
       "      <td>54</td>\n",
       "      <td>2023-11-14 10:08:51.588999</td>\n",
       "      <td>2023-11-14 10:08:51.588999</td>\n",
       "    </tr>\n",
       "    <tr>\n",
       "      <th>500</th>\n",
       "      <td>5110 Arundel Rakaia Gorge Road, Alford Forest,...</td>\n",
       "      <td>Route9</td>\n",
       "      <td>55</td>\n",
       "      <td>2023-11-14 11:09:42.910000</td>\n",
       "      <td>2023-11-14 11:09:42.910000</td>\n",
       "    </tr>\n",
       "  </tbody>\n",
       "</table>\n",
       "<p>501 rows × 5 columns</p>\n",
       "</div>"
      ],
      "text/plain": [
       "                                                  Name  ...                 DepartTime\n",
       "483  5110 Arundel Rakaia Gorge Road, Alford Forest,...  ... 2023-11-14 08:00:00.000000\n",
       "435                                       Location 436  ... 2023-11-14 09:19:00.384999\n",
       "437                                       Location 438  ... 2023-11-14 09:19:06.365999\n",
       "438                                       Location 439  ... 2023-11-14 09:19:25.971000\n",
       "441                                       Location 442  ... 2023-11-14 09:20:15.412000\n",
       "..                                                 ...  ...                        ...\n",
       "272                                       Location 273  ... 2023-11-14 09:59:18.305999\n",
       "273                                       Location 274  ... 2023-11-14 10:00:05.967000\n",
       "262                                       Location 263  ... 2023-11-14 10:03:30.408999\n",
       "173                                       Location 174  ... 2023-11-14 10:08:51.588999\n",
       "500  5110 Arundel Rakaia Gorge Road, Alford Forest,...  ... 2023-11-14 11:09:42.910000\n",
       "\n",
       "[501 rows x 5 columns]"
      ]
     },
     "execution_count": 56,
     "metadata": {},
     "output_type": "execute_result"
    }
   ],
   "source": [
    "out_stops_df = results.out_stops.sdf\n",
    "out_stops_df[['Name','RouteName','Sequence','ArriveTime','DepartTime']].sort_values(by=['RouteName',\n",
    "                                                                                       'Sequence'])"
   ]
  },
  {
   "cell_type": "markdown",
   "metadata": {},
   "source": [
    "### 9. Display Output Routes"
   ]
  },
  {
   "cell_type": "code",
   "execution_count": 58,
   "metadata": {
    "scrolled": true
   },
   "outputs": [
    {
     "data": {
      "application/vnd.jupyter.widget-view+json": {
       "model_id": "a8305c5996204e4c95338fbdd3f899cb",
       "version_major": 2,
       "version_minor": 0
      },
      "text/plain": [
       "MapView(layout=Layout(height='400px', width='100%'))"
      ]
     },
     "metadata": {},
     "output_type": "display_data"
    },
    {
     "data": {
      "text/html": [
       "<div class=\"map-static-img-preview-bdf07beb-77ea-4646-8613-ee9ea8a36763\"><img src=\"\"></img></div>"
      ],
      "text/plain": [
       "<display.HTML object>"
      ]
     },
     "metadata": {},
     "output_type": "display_data"
    },
    {
     "data": {
      "text/html": [
       "<div class=\"map-html-embed-preview-bdf07beb-77ea-4646-8613-ee9ea8a36763\"></div>"
      ],
      "text/plain": [
       "<display.HTML object>"
      ]
     },
     "metadata": {},
     "output_type": "display_data"
    }
   ],
   "source": [
    "# Create a map instance to visualize inputs in map\n",
    "map_view_outputs = gis.map('Christchurch, New Zealand', zoomlevel=8)\n",
    "map_view_outputs"
   ]
  },
  {
   "cell_type": "code",
   "execution_count": 59,
   "metadata": {},
   "outputs": [],
   "source": [
    "#Visusalize the inputsn with different symbols\n",
    "map_view_outputs.draw(orders_fset, symbol={\"type\": \"esriSMS\",\n",
    "                                           \"style\": \"esriSMSCircle\",\n",
    "                                           \"color\": [76,115,0,255],\"size\": 8})\n",
    "map_view_outputs.draw(depots_fset, symbol={\"type\": \"esriSMS\",\n",
    "                                           \"style\": \"esriSMSSquare\",\n",
    "                                           \"color\": [255,115,0,255], \"size\": 10})\n",
    "\n",
    "#Visualize the first route\n",
    "out_routes_flist = []\n",
    "out_routes_flist.append(results.out_routes.features[0])\n",
    "out_routes_fset = []\n",
    "out_routes_fset = FeatureSet(out_routes_flist)\n",
    "map_view_outputs.draw(out_routes_fset, \n",
    "                      symbol={\"type\": \"esriSLS\",\n",
    "                              \"style\": \"esriSLSSolid\",\n",
    "                              \"color\": [0,100,240,255],\"size\":10})\n",
    "\n",
    "#Visualize the second route\n",
    "out_routes_flist = []\n",
    "out_routes_flist.append(results.out_routes.features[1])\n",
    "out_routes_fset = []\n",
    "out_routes_fset = FeatureSet(out_routes_flist)\n",
    "map_view_outputs.draw(out_routes_fset, \n",
    "                      symbol={\"type\": \"esriSLS\",\n",
    "                              \"style\": \"esriSLSSolid\",\n",
    "                              \"color\": [255,0,0,255],\"size\":10})"
   ]
  },
  {
   "cell_type": "code",
   "execution_count": 65,
   "metadata": {},
   "outputs": [],
   "source": [
    "import random\n",
    "from arcgis.features import FeatureSet\n",
    "\n",
    "# Function to generate a random color\n",
    "def generate_random_color():\n",
    "    return [random.randint(0, 255) for _ in range(3)] + [255]  # RGB color with full opacity\n",
    "\n",
    "# Visualize the orders and depots\n",
    "map_view_outputs.draw(orders_fset, symbol={\"type\": \"esriSMS\", \"style\": \"esriSMSCircle\", \"color\": [76, 115, 0, 255], \"size\": 8})\n",
    "map_view_outputs.draw(depots_fset, symbol={\"type\": \"esriSMS\", \"style\": \"esriSMSSquare\", \"color\": [255, 115, 0, 255], \"size\": 10})\n",
    "\n",
    "# Iterate through all routes\n",
    "for route in results.out_routes.features:\n",
    "    # Create a FeatureSet for each route\n",
    "    out_routes_fset = FeatureSet([route])\n",
    "\n",
    "    # Generate a random color for the route\n",
    "    color = generate_random_color()\n",
    "\n",
    "    # Draw the route on the map\n",
    "    map_view_outputs.draw(out_routes_fset, symbol={\"type\": \"esriSLS\", \"style\": \"esriSLSSolid\", \"color\": color, \"size\": 10})\n"
   ]
  },
  {
   "cell_type": "code",
   "execution_count": 70,
   "metadata": {},
   "outputs": [
    {
     "name": "stdout",
     "output_type": "stream",
     "text": [
      "Web Map created: https://www.arcgis.com//home/item.html?id=9336d7f06d7c4ed5b9f80a5178a78f41\n"
     ]
    }
   ],
   "source": [
    "# Assuming map_view_outputs is your map object where routes are drawn\n",
    "webmap_properties = {'title': 'Optimizing VRP Routes',\n",
    "                     'snippet': 'Web map showing VRP routes',\n",
    "                     'tags': 'VRP, routes'}\n",
    "\n",
    "# Update the thumbnail path\n",
    "thumbnail_path = r'\\\\Mac\\Home\\gigi_git\\OptimizedRoutes\\Screenshot 2023-11-14 at 12.07.47 AM.png'  # Update this path\n",
    "\n",
    "# Save the map as a web map\n",
    "try:\n",
    "    web_map_item = map_view_outputs.save(webmap_properties, thumbnail=thumbnail_path, folder=None)\n",
    "    print(f\"Web Map created: {web_map_item.homepage}\")\n",
    "except Exception as e:\n",
    "    print(f\"Error saving the web map: {e}\")"
   ]
  },
  {
   "cell_type": "markdown",
   "metadata": {},
   "source": [
    "### 10. Create Route Layers for Navigation"
   ]
  },
  {
   "cell_type": "code",
   "execution_count": null,
   "metadata": {},
   "outputs": [],
   "source": []
  },
  {
   "cell_type": "code",
   "execution_count": 63,
   "metadata": {},
   "outputs": [
    {
     "name": "stderr",
     "output_type": "stream",
     "text": [
      "{\"cost\": 0}\n"
     ]
    },
    {
     "data": {
      "text/plain": [
       "'https://www.arcgis.com//home/item.html?id=22acfa2a144449b3877a972673332a3e'"
      ]
     },
     "metadata": {},
     "output_type": "display_data"
    },
    {
     "data": {
      "text/html": [
       "<div class=\"item_container\" style=\"height: auto; overflow: hidden; border: 1px solid #cfcfcf; border-radius: 2px; background: #f6fafa; line-height: 1.21429em; padding: 10px;\">\n",
       "                    <div class=\"item_left\" style=\"width: 210px; float: left;\">\n",
       "                       <a href='https://www.arcgis.com//home/item.html?id=22acfa2a144449b3877a972673332a3e' target='_blank'>\n",
       "                        <img src='http://static.arcgis.com/images/desktopapp.png' class=\"itemThumbnail\">\n",
       "                       </a>\n",
       "                    </div>\n",
       "\n",
       "                    <div class=\"item_right\"     style=\"float: none; width: auto; overflow: hidden;\">\n",
       "                        <a href='https://www.arcgis.com//home/item.html?id=22acfa2a144449b3877a972673332a3e' target='_blank'><b>Route1</b>\n",
       "                        </a>\n",
       "                        <br/>Route and directions for Route1<img src='https://www.arcgis.com//home/js/jsapi/esri/css/images/item_type_icons/features16.png' style=\"vertical-align:middle;\">Feature Collection by jis310_Harvard_CGA\n",
       "                        <br/>Last Modified: November 13, 2023\n",
       "                        <br/>0 comments, 0 views\n",
       "                    </div>\n",
       "                </div>\n",
       "                "
      ],
      "text/plain": [
       "<Item title:\"Route1\" type:Feature Collection owner:jis310_Harvard_CGA>"
      ]
     },
     "metadata": {},
     "output_type": "display_data"
    },
    {
     "data": {
      "text/plain": [
       "'https://www.arcgis.com//home/item.html?id=ea583562d4a04274ad889ac396de6952'"
      ]
     },
     "metadata": {},
     "output_type": "display_data"
    },
    {
     "data": {
      "text/html": [
       "<div class=\"item_container\" style=\"height: auto; overflow: hidden; border: 1px solid #cfcfcf; border-radius: 2px; background: #f6fafa; line-height: 1.21429em; padding: 10px;\">\n",
       "                    <div class=\"item_left\" style=\"width: 210px; float: left;\">\n",
       "                       <a href='https://www.arcgis.com//home/item.html?id=ea583562d4a04274ad889ac396de6952' target='_blank'>\n",
       "                        <img src='http://static.arcgis.com/images/desktopapp.png' class=\"itemThumbnail\">\n",
       "                       </a>\n",
       "                    </div>\n",
       "\n",
       "                    <div class=\"item_right\"     style=\"float: none; width: auto; overflow: hidden;\">\n",
       "                        <a href='https://www.arcgis.com//home/item.html?id=ea583562d4a04274ad889ac396de6952' target='_blank'><b>Route2</b>\n",
       "                        </a>\n",
       "                        <br/>Route and directions for Route2<img src='https://www.arcgis.com//home/js/jsapi/esri/css/images/item_type_icons/features16.png' style=\"vertical-align:middle;\">Feature Collection by jis310_Harvard_CGA\n",
       "                        <br/>Last Modified: November 13, 2023\n",
       "                        <br/>0 comments, 0 views\n",
       "                    </div>\n",
       "                </div>\n",
       "                "
      ],
      "text/plain": [
       "<Item title:\"Route2\" type:Feature Collection owner:jis310_Harvard_CGA>"
      ]
     },
     "metadata": {},
     "output_type": "display_data"
    },
    {
     "data": {
      "text/plain": [
       "'https://www.arcgis.com//home/item.html?id=0f0551141e6649d381524520b9bcd728'"
      ]
     },
     "metadata": {},
     "output_type": "display_data"
    },
    {
     "data": {
      "text/html": [
       "<div class=\"item_container\" style=\"height: auto; overflow: hidden; border: 1px solid #cfcfcf; border-radius: 2px; background: #f6fafa; line-height: 1.21429em; padding: 10px;\">\n",
       "                    <div class=\"item_left\" style=\"width: 210px; float: left;\">\n",
       "                       <a href='https://www.arcgis.com//home/item.html?id=0f0551141e6649d381524520b9bcd728' target='_blank'>\n",
       "                        <img src='http://static.arcgis.com/images/desktopapp.png' class=\"itemThumbnail\">\n",
       "                       </a>\n",
       "                    </div>\n",
       "\n",
       "                    <div class=\"item_right\"     style=\"float: none; width: auto; overflow: hidden;\">\n",
       "                        <a href='https://www.arcgis.com//home/item.html?id=0f0551141e6649d381524520b9bcd728' target='_blank'><b>Route3</b>\n",
       "                        </a>\n",
       "                        <br/>Route and directions for Route3<img src='https://www.arcgis.com//home/js/jsapi/esri/css/images/item_type_icons/features16.png' style=\"vertical-align:middle;\">Feature Collection by jis310_Harvard_CGA\n",
       "                        <br/>Last Modified: November 13, 2023\n",
       "                        <br/>0 comments, 0 views\n",
       "                    </div>\n",
       "                </div>\n",
       "                "
      ],
      "text/plain": [
       "<Item title:\"Route3\" type:Feature Collection owner:jis310_Harvard_CGA>"
      ]
     },
     "metadata": {},
     "output_type": "display_data"
    },
    {
     "data": {
      "text/plain": [
       "'https://www.arcgis.com//home/item.html?id=d80250c5d011492c9a13bb429bb46ebe'"
      ]
     },
     "metadata": {},
     "output_type": "display_data"
    },
    {
     "data": {
      "text/html": [
       "<div class=\"item_container\" style=\"height: auto; overflow: hidden; border: 1px solid #cfcfcf; border-radius: 2px; background: #f6fafa; line-height: 1.21429em; padding: 10px;\">\n",
       "                    <div class=\"item_left\" style=\"width: 210px; float: left;\">\n",
       "                       <a href='https://www.arcgis.com//home/item.html?id=d80250c5d011492c9a13bb429bb46ebe' target='_blank'>\n",
       "                        <img src='http://static.arcgis.com/images/desktopapp.png' class=\"itemThumbnail\">\n",
       "                       </a>\n",
       "                    </div>\n",
       "\n",
       "                    <div class=\"item_right\"     style=\"float: none; width: auto; overflow: hidden;\">\n",
       "                        <a href='https://www.arcgis.com//home/item.html?id=d80250c5d011492c9a13bb429bb46ebe' target='_blank'><b>Route4</b>\n",
       "                        </a>\n",
       "                        <br/>Route and directions for Route4<img src='https://www.arcgis.com//home/js/jsapi/esri/css/images/item_type_icons/features16.png' style=\"vertical-align:middle;\">Feature Collection by jis310_Harvard_CGA\n",
       "                        <br/>Last Modified: November 13, 2023\n",
       "                        <br/>0 comments, 1 views\n",
       "                    </div>\n",
       "                </div>\n",
       "                "
      ],
      "text/plain": [
       "<Item title:\"Route4\" type:Feature Collection owner:jis310_Harvard_CGA>"
      ]
     },
     "metadata": {},
     "output_type": "display_data"
    },
    {
     "data": {
      "text/plain": [
       "'https://www.arcgis.com//home/item.html?id=4bfde90d036e44759f9058a7838218f9'"
      ]
     },
     "metadata": {},
     "output_type": "display_data"
    },
    {
     "data": {
      "text/html": [
       "<div class=\"item_container\" style=\"height: auto; overflow: hidden; border: 1px solid #cfcfcf; border-radius: 2px; background: #f6fafa; line-height: 1.21429em; padding: 10px;\">\n",
       "                    <div class=\"item_left\" style=\"width: 210px; float: left;\">\n",
       "                       <a href='https://www.arcgis.com//home/item.html?id=4bfde90d036e44759f9058a7838218f9' target='_blank'>\n",
       "                        <img src='http://static.arcgis.com/images/desktopapp.png' class=\"itemThumbnail\">\n",
       "                       </a>\n",
       "                    </div>\n",
       "\n",
       "                    <div class=\"item_right\"     style=\"float: none; width: auto; overflow: hidden;\">\n",
       "                        <a href='https://www.arcgis.com//home/item.html?id=4bfde90d036e44759f9058a7838218f9' target='_blank'><b>Route5</b>\n",
       "                        </a>\n",
       "                        <br/>Route and directions for Route5<img src='https://www.arcgis.com//home/js/jsapi/esri/css/images/item_type_icons/features16.png' style=\"vertical-align:middle;\">Feature Collection by jis310_Harvard_CGA\n",
       "                        <br/>Last Modified: November 13, 2023\n",
       "                        <br/>0 comments, 0 views\n",
       "                    </div>\n",
       "                </div>\n",
       "                "
      ],
      "text/plain": [
       "<Item title:\"Route5\" type:Feature Collection owner:jis310_Harvard_CGA>"
      ]
     },
     "metadata": {},
     "output_type": "display_data"
    },
    {
     "data": {
      "text/plain": [
       "'https://www.arcgis.com//home/item.html?id=7266e122b0944dd38f0dd746ff68bbb2'"
      ]
     },
     "metadata": {},
     "output_type": "display_data"
    },
    {
     "data": {
      "text/html": [
       "<div class=\"item_container\" style=\"height: auto; overflow: hidden; border: 1px solid #cfcfcf; border-radius: 2px; background: #f6fafa; line-height: 1.21429em; padding: 10px;\">\n",
       "                    <div class=\"item_left\" style=\"width: 210px; float: left;\">\n",
       "                       <a href='https://www.arcgis.com//home/item.html?id=7266e122b0944dd38f0dd746ff68bbb2' target='_blank'>\n",
       "                        <img src='http://static.arcgis.com/images/desktopapp.png' class=\"itemThumbnail\">\n",
       "                       </a>\n",
       "                    </div>\n",
       "\n",
       "                    <div class=\"item_right\"     style=\"float: none; width: auto; overflow: hidden;\">\n",
       "                        <a href='https://www.arcgis.com//home/item.html?id=7266e122b0944dd38f0dd746ff68bbb2' target='_blank'><b>Route6</b>\n",
       "                        </a>\n",
       "                        <br/>Route and directions for Route6<img src='https://www.arcgis.com//home/js/jsapi/esri/css/images/item_type_icons/features16.png' style=\"vertical-align:middle;\">Feature Collection by jis310_Harvard_CGA\n",
       "                        <br/>Last Modified: November 13, 2023\n",
       "                        <br/>0 comments, 0 views\n",
       "                    </div>\n",
       "                </div>\n",
       "                "
      ],
      "text/plain": [
       "<Item title:\"Route6\" type:Feature Collection owner:jis310_Harvard_CGA>"
      ]
     },
     "metadata": {},
     "output_type": "display_data"
    },
    {
     "data": {
      "text/plain": [
       "'https://www.arcgis.com//home/item.html?id=e7b8e25014804db9848dac75d7656927'"
      ]
     },
     "metadata": {},
     "output_type": "display_data"
    },
    {
     "data": {
      "text/html": [
       "<div class=\"item_container\" style=\"height: auto; overflow: hidden; border: 1px solid #cfcfcf; border-radius: 2px; background: #f6fafa; line-height: 1.21429em; padding: 10px;\">\n",
       "                    <div class=\"item_left\" style=\"width: 210px; float: left;\">\n",
       "                       <a href='https://www.arcgis.com//home/item.html?id=e7b8e25014804db9848dac75d7656927' target='_blank'>\n",
       "                        <img src='http://static.arcgis.com/images/desktopapp.png' class=\"itemThumbnail\">\n",
       "                       </a>\n",
       "                    </div>\n",
       "\n",
       "                    <div class=\"item_right\"     style=\"float: none; width: auto; overflow: hidden;\">\n",
       "                        <a href='https://www.arcgis.com//home/item.html?id=e7b8e25014804db9848dac75d7656927' target='_blank'><b>Route7</b>\n",
       "                        </a>\n",
       "                        <br/>Route and directions for Route7<img src='https://www.arcgis.com//home/js/jsapi/esri/css/images/item_type_icons/features16.png' style=\"vertical-align:middle;\">Feature Collection by jis310_Harvard_CGA\n",
       "                        <br/>Last Modified: November 13, 2023\n",
       "                        <br/>0 comments, 1 views\n",
       "                    </div>\n",
       "                </div>\n",
       "                "
      ],
      "text/plain": [
       "<Item title:\"Route7\" type:Feature Collection owner:jis310_Harvard_CGA>"
      ]
     },
     "metadata": {},
     "output_type": "display_data"
    },
    {
     "data": {
      "text/plain": [
       "'https://www.arcgis.com//home/item.html?id=4f2f73417a3f4c6e97297d918deb3be4'"
      ]
     },
     "metadata": {},
     "output_type": "display_data"
    },
    {
     "data": {
      "text/html": [
       "<div class=\"item_container\" style=\"height: auto; overflow: hidden; border: 1px solid #cfcfcf; border-radius: 2px; background: #f6fafa; line-height: 1.21429em; padding: 10px;\">\n",
       "                    <div class=\"item_left\" style=\"width: 210px; float: left;\">\n",
       "                       <a href='https://www.arcgis.com//home/item.html?id=4f2f73417a3f4c6e97297d918deb3be4' target='_blank'>\n",
       "                        <img src='http://static.arcgis.com/images/desktopapp.png' class=\"itemThumbnail\">\n",
       "                       </a>\n",
       "                    </div>\n",
       "\n",
       "                    <div class=\"item_right\"     style=\"float: none; width: auto; overflow: hidden;\">\n",
       "                        <a href='https://www.arcgis.com//home/item.html?id=4f2f73417a3f4c6e97297d918deb3be4' target='_blank'><b>Route8</b>\n",
       "                        </a>\n",
       "                        <br/>Route and directions for Route8<img src='https://www.arcgis.com//home/js/jsapi/esri/css/images/item_type_icons/features16.png' style=\"vertical-align:middle;\">Feature Collection by jis310_Harvard_CGA\n",
       "                        <br/>Last Modified: November 13, 2023\n",
       "                        <br/>0 comments, 1 views\n",
       "                    </div>\n",
       "                </div>\n",
       "                "
      ],
      "text/plain": [
       "<Item title:\"Route8\" type:Feature Collection owner:jis310_Harvard_CGA>"
      ]
     },
     "metadata": {},
     "output_type": "display_data"
    },
    {
     "data": {
      "text/plain": [
       "'https://www.arcgis.com//home/item.html?id=698fc7eb1eac4703abe5ab0379b8a732'"
      ]
     },
     "metadata": {},
     "output_type": "display_data"
    },
    {
     "data": {
      "text/html": [
       "<div class=\"item_container\" style=\"height: auto; overflow: hidden; border: 1px solid #cfcfcf; border-radius: 2px; background: #f6fafa; line-height: 1.21429em; padding: 10px;\">\n",
       "                    <div class=\"item_left\" style=\"width: 210px; float: left;\">\n",
       "                       <a href='https://www.arcgis.com//home/item.html?id=698fc7eb1eac4703abe5ab0379b8a732' target='_blank'>\n",
       "                        <img src='http://static.arcgis.com/images/desktopapp.png' class=\"itemThumbnail\">\n",
       "                       </a>\n",
       "                    </div>\n",
       "\n",
       "                    <div class=\"item_right\"     style=\"float: none; width: auto; overflow: hidden;\">\n",
       "                        <a href='https://www.arcgis.com//home/item.html?id=698fc7eb1eac4703abe5ab0379b8a732' target='_blank'><b>Route9</b>\n",
       "                        </a>\n",
       "                        <br/>Route and directions for Route9<img src='https://www.arcgis.com//home/js/jsapi/esri/css/images/item_type_icons/features16.png' style=\"vertical-align:middle;\">Feature Collection by jis310_Harvard_CGA\n",
       "                        <br/>Last Modified: November 13, 2023\n",
       "                        <br/>0 comments, 0 views\n",
       "                    </div>\n",
       "                </div>\n",
       "                "
      ],
      "text/plain": [
       "<Item title:\"Route9\" type:Feature Collection owner:jis310_Harvard_CGA>"
      ]
     },
     "metadata": {},
     "output_type": "display_data"
    }
   ],
   "source": [
    "route_data = results.out_route_data.download('.')\n",
    "route_data_item = gis.content.add({\"type\": \"File Geodatabase\"}, route_data)\n",
    "route_layers = arcgis.features.analysis.create_route_layers(route_data_item, \n",
    "                                                            delete_route_data_item=True)\n",
    "for route_layer in route_layers:\n",
    "    route_layer.share(org=True)\n",
    "    display(route_layer.homepage)\n",
    "    display(route_layer)"
   ]
  },
  {
   "cell_type": "code",
   "execution_count": null,
   "metadata": {},
   "outputs": [],
   "source": []
  }
 ],
 "metadata": {
  "kernelspec": {
   "display_name": "ArcGISPro",
   "language": "Python",
   "name": "python3"
  },
  "language_info": {
   "file_extension": ".py",
   "name": "python",
   "version": "3"
  }
 },
 "nbformat": 4,
 "nbformat_minor": 2
}
